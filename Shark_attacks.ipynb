{
 "cells": [
  {
   "cell_type": "code",
   "execution_count": 180,
   "id": "49dea2aa",
   "metadata": {},
   "outputs": [],
   "source": [
    "import numpy as np\n",
    "import pandas as pd\n",
    "import re\n",
    "import warnings\n",
    "import seaborn as sns\n",
    "import matplotlib.pyplot as plt\n",
    "\n"
   ]
  },
  {
   "cell_type": "code",
   "execution_count": 181,
   "id": "82722327",
   "metadata": {},
   "outputs": [],
   "source": [
    "df_sharks = pd.read_csv(\"./data/Shark_attacks.csv\",encoding=\"unicode_escape\")\n"
   ]
  },
  {
   "cell_type": "code",
   "execution_count": 182,
   "id": "0ea8706e",
   "metadata": {
    "scrolled": true
   },
   "outputs": [
    {
     "data": {
      "text/html": [
       "<div>\n",
       "<style scoped>\n",
       "    .dataframe tbody tr th:only-of-type {\n",
       "        vertical-align: middle;\n",
       "    }\n",
       "\n",
       "    .dataframe tbody tr th {\n",
       "        vertical-align: top;\n",
       "    }\n",
       "\n",
       "    .dataframe thead th {\n",
       "        text-align: right;\n",
       "    }\n",
       "</style>\n",
       "<table border=\"1\" class=\"dataframe\">\n",
       "  <thead>\n",
       "    <tr style=\"text-align: right;\">\n",
       "      <th></th>\n",
       "      <th>Case Number</th>\n",
       "      <th>Date</th>\n",
       "      <th>Year</th>\n",
       "      <th>Type</th>\n",
       "      <th>Country</th>\n",
       "      <th>Area</th>\n",
       "      <th>Location</th>\n",
       "      <th>Activity</th>\n",
       "      <th>Name</th>\n",
       "      <th>Sex</th>\n",
       "      <th>...</th>\n",
       "      <th>Species</th>\n",
       "      <th>Investigator or Source</th>\n",
       "      <th>pdf</th>\n",
       "      <th>href formula</th>\n",
       "      <th>href</th>\n",
       "      <th>Case Number.1</th>\n",
       "      <th>Case Number.2</th>\n",
       "      <th>original order</th>\n",
       "      <th>Unnamed: 22</th>\n",
       "      <th>Unnamed: 23</th>\n",
       "    </tr>\n",
       "  </thead>\n",
       "  <tbody>\n",
       "    <tr>\n",
       "      <th>24733</th>\n",
       "      <td>NaN</td>\n",
       "      <td>NaN</td>\n",
       "      <td>NaN</td>\n",
       "      <td>NaN</td>\n",
       "      <td>NaN</td>\n",
       "      <td>NaN</td>\n",
       "      <td>NaN</td>\n",
       "      <td>NaN</td>\n",
       "      <td>NaN</td>\n",
       "      <td>NaN</td>\n",
       "      <td>...</td>\n",
       "      <td>NaN</td>\n",
       "      <td>NaN</td>\n",
       "      <td>NaN</td>\n",
       "      <td>NaN</td>\n",
       "      <td>NaN</td>\n",
       "      <td>NaN</td>\n",
       "      <td>NaN</td>\n",
       "      <td>NaN</td>\n",
       "      <td>NaN</td>\n",
       "      <td>NaN</td>\n",
       "    </tr>\n",
       "    <tr>\n",
       "      <th>8337</th>\n",
       "      <td>0</td>\n",
       "      <td>NaN</td>\n",
       "      <td>NaN</td>\n",
       "      <td>NaN</td>\n",
       "      <td>NaN</td>\n",
       "      <td>NaN</td>\n",
       "      <td>NaN</td>\n",
       "      <td>NaN</td>\n",
       "      <td>NaN</td>\n",
       "      <td>NaN</td>\n",
       "      <td>...</td>\n",
       "      <td>NaN</td>\n",
       "      <td>NaN</td>\n",
       "      <td>NaN</td>\n",
       "      <td>NaN</td>\n",
       "      <td>NaN</td>\n",
       "      <td>NaN</td>\n",
       "      <td>NaN</td>\n",
       "      <td>NaN</td>\n",
       "      <td>NaN</td>\n",
       "      <td>NaN</td>\n",
       "    </tr>\n",
       "    <tr>\n",
       "      <th>7264</th>\n",
       "      <td>0</td>\n",
       "      <td>NaN</td>\n",
       "      <td>NaN</td>\n",
       "      <td>NaN</td>\n",
       "      <td>NaN</td>\n",
       "      <td>NaN</td>\n",
       "      <td>NaN</td>\n",
       "      <td>NaN</td>\n",
       "      <td>NaN</td>\n",
       "      <td>NaN</td>\n",
       "      <td>...</td>\n",
       "      <td>NaN</td>\n",
       "      <td>NaN</td>\n",
       "      <td>NaN</td>\n",
       "      <td>NaN</td>\n",
       "      <td>NaN</td>\n",
       "      <td>NaN</td>\n",
       "      <td>NaN</td>\n",
       "      <td>NaN</td>\n",
       "      <td>NaN</td>\n",
       "      <td>NaN</td>\n",
       "    </tr>\n",
       "    <tr>\n",
       "      <th>23625</th>\n",
       "      <td>NaN</td>\n",
       "      <td>NaN</td>\n",
       "      <td>NaN</td>\n",
       "      <td>NaN</td>\n",
       "      <td>NaN</td>\n",
       "      <td>NaN</td>\n",
       "      <td>NaN</td>\n",
       "      <td>NaN</td>\n",
       "      <td>NaN</td>\n",
       "      <td>NaN</td>\n",
       "      <td>...</td>\n",
       "      <td>NaN</td>\n",
       "      <td>NaN</td>\n",
       "      <td>NaN</td>\n",
       "      <td>NaN</td>\n",
       "      <td>NaN</td>\n",
       "      <td>NaN</td>\n",
       "      <td>NaN</td>\n",
       "      <td>NaN</td>\n",
       "      <td>NaN</td>\n",
       "      <td>NaN</td>\n",
       "    </tr>\n",
       "    <tr>\n",
       "      <th>9351</th>\n",
       "      <td>NaN</td>\n",
       "      <td>NaN</td>\n",
       "      <td>NaN</td>\n",
       "      <td>NaN</td>\n",
       "      <td>NaN</td>\n",
       "      <td>NaN</td>\n",
       "      <td>NaN</td>\n",
       "      <td>NaN</td>\n",
       "      <td>NaN</td>\n",
       "      <td>NaN</td>\n",
       "      <td>...</td>\n",
       "      <td>NaN</td>\n",
       "      <td>NaN</td>\n",
       "      <td>NaN</td>\n",
       "      <td>NaN</td>\n",
       "      <td>NaN</td>\n",
       "      <td>NaN</td>\n",
       "      <td>NaN</td>\n",
       "      <td>NaN</td>\n",
       "      <td>NaN</td>\n",
       "      <td>NaN</td>\n",
       "    </tr>\n",
       "    <tr>\n",
       "      <th>...</th>\n",
       "      <td>...</td>\n",
       "      <td>...</td>\n",
       "      <td>...</td>\n",
       "      <td>...</td>\n",
       "      <td>...</td>\n",
       "      <td>...</td>\n",
       "      <td>...</td>\n",
       "      <td>...</td>\n",
       "      <td>...</td>\n",
       "      <td>...</td>\n",
       "      <td>...</td>\n",
       "      <td>...</td>\n",
       "      <td>...</td>\n",
       "      <td>...</td>\n",
       "      <td>...</td>\n",
       "      <td>...</td>\n",
       "      <td>...</td>\n",
       "      <td>...</td>\n",
       "      <td>...</td>\n",
       "      <td>...</td>\n",
       "      <td>...</td>\n",
       "    </tr>\n",
       "    <tr>\n",
       "      <th>5486</th>\n",
       "      <td>1905.12.29</td>\n",
       "      <td>29-Dec-1905</td>\n",
       "      <td>1905.0</td>\n",
       "      <td>Invalid</td>\n",
       "      <td>AUSTRALIA</td>\n",
       "      <td>Western Australia</td>\n",
       "      <td>Geraldton</td>\n",
       "      <td>Bathing</td>\n",
       "      <td>Hugh Carroll</td>\n",
       "      <td>M</td>\n",
       "      <td>...</td>\n",
       "      <td>Shark involvement not confirmed</td>\n",
       "      <td>The Advertiser, 12/30/1905</td>\n",
       "      <td>1905.12.29-Carroll.pdf</td>\n",
       "      <td>http://sharkattackfile.net/spreadsheets/pdf_di...</td>\n",
       "      <td>http://sharkattackfile.net/spreadsheets/pdf_di...</td>\n",
       "      <td>1905.12.29</td>\n",
       "      <td>1905.12.29</td>\n",
       "      <td>817.0</td>\n",
       "      <td>NaN</td>\n",
       "      <td>NaN</td>\n",
       "    </tr>\n",
       "    <tr>\n",
       "      <th>18226</th>\n",
       "      <td>NaN</td>\n",
       "      <td>NaN</td>\n",
       "      <td>NaN</td>\n",
       "      <td>NaN</td>\n",
       "      <td>NaN</td>\n",
       "      <td>NaN</td>\n",
       "      <td>NaN</td>\n",
       "      <td>NaN</td>\n",
       "      <td>NaN</td>\n",
       "      <td>NaN</td>\n",
       "      <td>...</td>\n",
       "      <td>NaN</td>\n",
       "      <td>NaN</td>\n",
       "      <td>NaN</td>\n",
       "      <td>NaN</td>\n",
       "      <td>NaN</td>\n",
       "      <td>NaN</td>\n",
       "      <td>NaN</td>\n",
       "      <td>NaN</td>\n",
       "      <td>NaN</td>\n",
       "      <td>NaN</td>\n",
       "    </tr>\n",
       "    <tr>\n",
       "      <th>11673</th>\n",
       "      <td>NaN</td>\n",
       "      <td>NaN</td>\n",
       "      <td>NaN</td>\n",
       "      <td>NaN</td>\n",
       "      <td>NaN</td>\n",
       "      <td>NaN</td>\n",
       "      <td>NaN</td>\n",
       "      <td>NaN</td>\n",
       "      <td>NaN</td>\n",
       "      <td>NaN</td>\n",
       "      <td>...</td>\n",
       "      <td>NaN</td>\n",
       "      <td>NaN</td>\n",
       "      <td>NaN</td>\n",
       "      <td>NaN</td>\n",
       "      <td>NaN</td>\n",
       "      <td>NaN</td>\n",
       "      <td>NaN</td>\n",
       "      <td>NaN</td>\n",
       "      <td>NaN</td>\n",
       "      <td>NaN</td>\n",
       "    </tr>\n",
       "    <tr>\n",
       "      <th>812</th>\n",
       "      <td>2012.03.05</td>\n",
       "      <td>05-Mar-2012</td>\n",
       "      <td>2012.0</td>\n",
       "      <td>Unprovoked</td>\n",
       "      <td>REUNION</td>\n",
       "      <td>Saint-Benoit</td>\n",
       "      <td>Port de la Marine</td>\n",
       "      <td>Body boarding</td>\n",
       "      <td>Gerard Itema</td>\n",
       "      <td>M</td>\n",
       "      <td>...</td>\n",
       "      <td>NaN</td>\n",
       "      <td>Clicanoo, 3/5/2012</td>\n",
       "      <td>2012.03.05-Itema.pdf</td>\n",
       "      <td>http://sharkattackfile.net/spreadsheets/pdf_di...</td>\n",
       "      <td>http://sharkattackfile.net/spreadsheets/pdf_di...</td>\n",
       "      <td>2012.03.05</td>\n",
       "      <td>2012.03.05</td>\n",
       "      <td>5491.0</td>\n",
       "      <td>NaN</td>\n",
       "      <td>NaN</td>\n",
       "    </tr>\n",
       "    <tr>\n",
       "      <th>683</th>\n",
       "      <td>2013.04.14</td>\n",
       "      <td>14-Apr-2013</td>\n",
       "      <td>2013.0</td>\n",
       "      <td>Unprovoked</td>\n",
       "      <td>SOUTH AFRICA</td>\n",
       "      <td>Western Cape Province</td>\n",
       "      <td>False Bay</td>\n",
       "      <td>Free diving</td>\n",
       "      <td>male</td>\n",
       "      <td>M</td>\n",
       "      <td>...</td>\n",
       "      <td>Blue shark</td>\n",
       "      <td>Cape Argus, 4/16/2013</td>\n",
       "      <td>2013.04.14-FalseBay.pdf</td>\n",
       "      <td>http://sharkattackfile.net/spreadsheets/pdf_di...</td>\n",
       "      <td>http://sharkattackfile.net/spreadsheets/pdf_di...</td>\n",
       "      <td>2013.04.14</td>\n",
       "      <td>2013.04.14</td>\n",
       "      <td>5620.0</td>\n",
       "      <td>NaN</td>\n",
       "      <td>NaN</td>\n",
       "    </tr>\n",
       "  </tbody>\n",
       "</table>\n",
       "<p>10289 rows × 24 columns</p>\n",
       "</div>"
      ],
      "text/plain": [
       "      Case Number         Date    Year        Type       Country  \\\n",
       "24733         NaN          NaN     NaN         NaN           NaN   \n",
       "8337            0          NaN     NaN         NaN           NaN   \n",
       "7264            0          NaN     NaN         NaN           NaN   \n",
       "23625         NaN          NaN     NaN         NaN           NaN   \n",
       "9351          NaN          NaN     NaN         NaN           NaN   \n",
       "...           ...          ...     ...         ...           ...   \n",
       "5486   1905.12.29  29-Dec-1905  1905.0     Invalid     AUSTRALIA   \n",
       "18226         NaN          NaN     NaN         NaN           NaN   \n",
       "11673         NaN          NaN     NaN         NaN           NaN   \n",
       "812    2012.03.05  05-Mar-2012  2012.0  Unprovoked       REUNION   \n",
       "683    2013.04.14  14-Apr-2013  2013.0  Unprovoked  SOUTH AFRICA   \n",
       "\n",
       "                        Area           Location       Activity          Name  \\\n",
       "24733                    NaN                NaN            NaN           NaN   \n",
       "8337                     NaN                NaN            NaN           NaN   \n",
       "7264                     NaN                NaN            NaN           NaN   \n",
       "23625                    NaN                NaN            NaN           NaN   \n",
       "9351                     NaN                NaN            NaN           NaN   \n",
       "...                      ...                ...            ...           ...   \n",
       "5486       Western Australia          Geraldton        Bathing  Hugh Carroll   \n",
       "18226                    NaN                NaN            NaN           NaN   \n",
       "11673                    NaN                NaN            NaN           NaN   \n",
       "812             Saint-Benoit  Port de la Marine  Body boarding  Gerard Itema   \n",
       "683    Western Cape Province          False Bay    Free diving          male   \n",
       "\n",
       "      Sex   ...                         Species       Investigator or Source  \\\n",
       "24733  NaN  ...                              NaN                         NaN   \n",
       "8337   NaN  ...                              NaN                         NaN   \n",
       "7264   NaN  ...                              NaN                         NaN   \n",
       "23625  NaN  ...                              NaN                         NaN   \n",
       "9351   NaN  ...                              NaN                         NaN   \n",
       "...    ...  ...                              ...                         ...   \n",
       "5486     M  ...  Shark involvement not confirmed  The Advertiser, 12/30/1905   \n",
       "18226  NaN  ...                              NaN                         NaN   \n",
       "11673  NaN  ...                              NaN                         NaN   \n",
       "812      M  ...                              NaN          Clicanoo, 3/5/2012   \n",
       "683      M  ...                       Blue shark       Cape Argus, 4/16/2013   \n",
       "\n",
       "                           pdf  \\\n",
       "24733                      NaN   \n",
       "8337                       NaN   \n",
       "7264                       NaN   \n",
       "23625                      NaN   \n",
       "9351                       NaN   \n",
       "...                        ...   \n",
       "5486    1905.12.29-Carroll.pdf   \n",
       "18226                      NaN   \n",
       "11673                      NaN   \n",
       "812       2012.03.05-Itema.pdf   \n",
       "683    2013.04.14-FalseBay.pdf   \n",
       "\n",
       "                                            href formula  \\\n",
       "24733                                                NaN   \n",
       "8337                                                 NaN   \n",
       "7264                                                 NaN   \n",
       "23625                                                NaN   \n",
       "9351                                                 NaN   \n",
       "...                                                  ...   \n",
       "5486   http://sharkattackfile.net/spreadsheets/pdf_di...   \n",
       "18226                                                NaN   \n",
       "11673                                                NaN   \n",
       "812    http://sharkattackfile.net/spreadsheets/pdf_di...   \n",
       "683    http://sharkattackfile.net/spreadsheets/pdf_di...   \n",
       "\n",
       "                                                    href Case Number.1  \\\n",
       "24733                                                NaN           NaN   \n",
       "8337                                                 NaN           NaN   \n",
       "7264                                                 NaN           NaN   \n",
       "23625                                                NaN           NaN   \n",
       "9351                                                 NaN           NaN   \n",
       "...                                                  ...           ...   \n",
       "5486   http://sharkattackfile.net/spreadsheets/pdf_di...    1905.12.29   \n",
       "18226                                                NaN           NaN   \n",
       "11673                                                NaN           NaN   \n",
       "812    http://sharkattackfile.net/spreadsheets/pdf_di...    2012.03.05   \n",
       "683    http://sharkattackfile.net/spreadsheets/pdf_di...    2013.04.14   \n",
       "\n",
       "      Case Number.2 original order Unnamed: 22 Unnamed: 23  \n",
       "24733           NaN            NaN         NaN         NaN  \n",
       "8337            NaN            NaN         NaN         NaN  \n",
       "7264            NaN            NaN         NaN         NaN  \n",
       "23625           NaN            NaN         NaN         NaN  \n",
       "9351            NaN            NaN         NaN         NaN  \n",
       "...             ...            ...         ...         ...  \n",
       "5486     1905.12.29          817.0         NaN         NaN  \n",
       "18226           NaN            NaN         NaN         NaN  \n",
       "11673           NaN            NaN         NaN         NaN  \n",
       "812      2012.03.05         5491.0         NaN         NaN  \n",
       "683      2013.04.14         5620.0         NaN         NaN  \n",
       "\n",
       "[10289 rows x 24 columns]"
      ]
     },
     "execution_count": 182,
     "metadata": {},
     "output_type": "execute_result"
    }
   ],
   "source": [
    "df_sharks.shape\n",
    "#df_sharks\n",
    "#first we look at the shape and print a sample\n",
    "df_sharks.sample(frac=0.4)\n"
   ]
  },
  {
   "cell_type": "code",
   "execution_count": 183,
   "id": "45d59c3c",
   "metadata": {},
   "outputs": [],
   "source": [
    "# check the empty columns and drop them, the 2 columns mentioned below seemed empty\n",
    "df_sharks[\"Unnamed: 22\"].isna().value_counts()\n",
    "df_sharks[\"Unnamed: 23\"].isna().value_counts()\n",
    "df_sharks = df_sharks.drop(columns=[\"Unnamed: 22\",\"Unnamed: 23\"])\n"
   ]
  },
  {
   "cell_type": "code",
   "execution_count": 184,
   "id": "9cc57f8e",
   "metadata": {},
   "outputs": [],
   "source": [
    "#check columns with irrelevent information and or not clear informations\n",
    "\n",
    "df_sharks = df_sharks.drop(columns=[\"href formula\",\"pdf\",\"href\",\"original order\"])"
   ]
  },
  {
   "cell_type": "code",
   "execution_count": 185,
   "id": "dc7eba97",
   "metadata": {},
   "outputs": [
    {
     "data": {
      "text/plain": [
       "19418"
      ]
     },
     "execution_count": 185,
     "metadata": {},
     "output_type": "execute_result"
    }
   ],
   "source": [
    "#check for duplicates\n",
    "#df_sharks[df_sharks.duplicated()]\n",
    "df_sharks.duplicated().sum()\n"
   ]
  },
  {
   "cell_type": "code",
   "execution_count": 186,
   "id": "d67985da",
   "metadata": {},
   "outputs": [],
   "source": [
    "#drop duplicates\n",
    "df_sharks = df_sharks.drop_duplicates()"
   ]
  },
  {
   "cell_type": "code",
   "execution_count": 187,
   "id": "6111a3b2",
   "metadata": {},
   "outputs": [
    {
     "data": {
      "text/plain": [
       "(6305, 18)"
      ]
     },
     "execution_count": 187,
     "metadata": {},
     "output_type": "execute_result"
    }
   ],
   "source": [
    "df_sharks.shape"
   ]
  },
  {
   "cell_type": "code",
   "execution_count": 188,
   "id": "e9a56416",
   "metadata": {},
   "outputs": [
    {
     "data": {
      "text/plain": [
       "(6304, 18)"
      ]
     },
     "execution_count": 188,
     "metadata": {},
     "output_type": "execute_result"
    }
   ],
   "source": [
    "#check and drop all the rows where EVERY value in that row is missing\n",
    "df_sharks = df_sharks.dropna(axis = 0, how = 'all')\n",
    "df_sharks.shape\n",
    "# the dataset went from 25723 row to 6304 after deleting the empty ones"
   ]
  },
  {
   "cell_type": "code",
   "execution_count": 189,
   "id": "f43c0272",
   "metadata": {
    "scrolled": true
   },
   "outputs": [],
   "source": [
    "# the dataset went from 25723 row to 6304 after deleting the empty ones"
   ]
  },
  {
   "cell_type": "code",
   "execution_count": 190,
   "id": "fedfb89f",
   "metadata": {},
   "outputs": [
    {
     "name": "stdout",
     "output_type": "stream",
     "text": [
      "Index(['Case Number', 'Date', 'Year', 'Type', 'Country', 'Area', 'Location',\n",
      "       'Activity', 'Name', 'Sex ', 'Age', 'Injury', 'Fatal (Y/N)', 'Time',\n",
      "       'Species ', 'Investigator or Source', 'Case Number.1', 'Case Number.2'],\n",
      "      dtype='object')\n"
     ]
    }
   ],
   "source": [
    "#it's important to check columns name in order to avoid keyerror\n",
    "print(df_sharks.columns)"
   ]
  },
  {
   "cell_type": "code",
   "execution_count": 191,
   "id": "dd459b6c",
   "metadata": {},
   "outputs": [
    {
     "data": {
      "text/plain": [
       "False"
      ]
     },
     "execution_count": 191,
     "metadata": {},
     "output_type": "execute_result"
    }
   ],
   "source": [
    "#check if the 3 columns named \"Case Number\" are equal ==> they are not but it's because of mismatching format date\n",
    "df_sharks[\"Case Number.1\"].equals(df_sharks[\"Case Number.2\"])\n",
    "df_sharks[\"Case Number\"].equals(df_sharks[\"Case Number.1\"])\n",
    "df_sharks[\"Case Number\"].equals(df_sharks[\"Case Number.2\"])"
   ]
  },
  {
   "cell_type": "code",
   "execution_count": 192,
   "id": "991e3302",
   "metadata": {},
   "outputs": [],
   "source": [
    "#it's not an information that I see useful, so I'll delete the columns, and also because I already have 2 other columns with dates\n",
    "df_sharks = df_sharks.drop(columns=[\"Case Number.1\",\"Case Number.2\"])\n"
   ]
  },
  {
   "cell_type": "code",
   "execution_count": null,
   "id": "0d7a793e",
   "metadata": {},
   "outputs": [],
   "source": []
  },
  {
   "cell_type": "code",
   "execution_count": 193,
   "id": "6afed6de",
   "metadata": {},
   "outputs": [
    {
     "data": {
      "text/html": [
       "<div>\n",
       "<style scoped>\n",
       "    .dataframe tbody tr th:only-of-type {\n",
       "        vertical-align: middle;\n",
       "    }\n",
       "\n",
       "    .dataframe tbody tr th {\n",
       "        vertical-align: top;\n",
       "    }\n",
       "\n",
       "    .dataframe thead th {\n",
       "        text-align: right;\n",
       "    }\n",
       "</style>\n",
       "<table border=\"1\" class=\"dataframe\">\n",
       "  <thead>\n",
       "    <tr style=\"text-align: right;\">\n",
       "      <th></th>\n",
       "      <th>Case Number</th>\n",
       "      <th>Date</th>\n",
       "      <th>Year</th>\n",
       "      <th>Type</th>\n",
       "      <th>Country</th>\n",
       "      <th>Area</th>\n",
       "      <th>Location</th>\n",
       "      <th>Activity</th>\n",
       "      <th>Name</th>\n",
       "      <th>Sex</th>\n",
       "      <th>Age</th>\n",
       "      <th>Injury</th>\n",
       "      <th>Fatal (Y/N)</th>\n",
       "      <th>Time</th>\n",
       "      <th>Species</th>\n",
       "      <th>Investigator or Source</th>\n",
       "    </tr>\n",
       "  </thead>\n",
       "  <tbody>\n",
       "    <tr>\n",
       "      <th>0</th>\n",
       "      <td>2018.06.25</td>\n",
       "      <td>25-Jun-2018</td>\n",
       "      <td>2018.0</td>\n",
       "      <td>Boating</td>\n",
       "      <td>USA</td>\n",
       "      <td>California</td>\n",
       "      <td>Oceanside, San Diego County</td>\n",
       "      <td>Paddling</td>\n",
       "      <td>Julie Wolfe</td>\n",
       "      <td>F</td>\n",
       "      <td>57</td>\n",
       "      <td>No injury to occupant, outrigger canoe and pad...</td>\n",
       "      <td>N</td>\n",
       "      <td>18h00</td>\n",
       "      <td>White shark</td>\n",
       "      <td>R. Collier, GSAF</td>\n",
       "    </tr>\n",
       "    <tr>\n",
       "      <th>1</th>\n",
       "      <td>2018.06.18</td>\n",
       "      <td>18-Jun-2018</td>\n",
       "      <td>2018.0</td>\n",
       "      <td>Unprovoked</td>\n",
       "      <td>USA</td>\n",
       "      <td>Georgia</td>\n",
       "      <td>St. Simon Island, Glynn County</td>\n",
       "      <td>Standing</td>\n",
       "      <td>Adyson McNeely</td>\n",
       "      <td>F</td>\n",
       "      <td>11</td>\n",
       "      <td>Minor injury to left thigh</td>\n",
       "      <td>N</td>\n",
       "      <td>14h00  -15h00</td>\n",
       "      <td>NaN</td>\n",
       "      <td>K.McMurray, TrackingSharks.com</td>\n",
       "    </tr>\n",
       "    <tr>\n",
       "      <th>2</th>\n",
       "      <td>2018.06.09</td>\n",
       "      <td>09-Jun-2018</td>\n",
       "      <td>2018.0</td>\n",
       "      <td>Invalid</td>\n",
       "      <td>USA</td>\n",
       "      <td>Hawaii</td>\n",
       "      <td>Habush, Oahu</td>\n",
       "      <td>Surfing</td>\n",
       "      <td>John Denges</td>\n",
       "      <td>M</td>\n",
       "      <td>48</td>\n",
       "      <td>Injury to left lower leg from surfboard skeg</td>\n",
       "      <td>N</td>\n",
       "      <td>07h45</td>\n",
       "      <td>NaN</td>\n",
       "      <td>K.McMurray, TrackingSharks.com</td>\n",
       "    </tr>\n",
       "    <tr>\n",
       "      <th>3</th>\n",
       "      <td>2018.06.08</td>\n",
       "      <td>08-Jun-2018</td>\n",
       "      <td>2018.0</td>\n",
       "      <td>Unprovoked</td>\n",
       "      <td>AUSTRALIA</td>\n",
       "      <td>New South Wales</td>\n",
       "      <td>Arrawarra Headland</td>\n",
       "      <td>Surfing</td>\n",
       "      <td>male</td>\n",
       "      <td>M</td>\n",
       "      <td>NaN</td>\n",
       "      <td>Minor injury to lower leg</td>\n",
       "      <td>N</td>\n",
       "      <td>NaN</td>\n",
       "      <td>2 m shark</td>\n",
       "      <td>B. Myatt, GSAF</td>\n",
       "    </tr>\n",
       "    <tr>\n",
       "      <th>4</th>\n",
       "      <td>2018.06.04</td>\n",
       "      <td>04-Jun-2018</td>\n",
       "      <td>2018.0</td>\n",
       "      <td>Provoked</td>\n",
       "      <td>MEXICO</td>\n",
       "      <td>Colima</td>\n",
       "      <td>La Ticla</td>\n",
       "      <td>Free diving</td>\n",
       "      <td>Gustavo Ramos</td>\n",
       "      <td>M</td>\n",
       "      <td>NaN</td>\n",
       "      <td>Lacerations to leg &amp; hand shark PROVOKED INCIDENT</td>\n",
       "      <td>N</td>\n",
       "      <td>NaN</td>\n",
       "      <td>Tiger shark, 3m</td>\n",
       "      <td>A .Kipper</td>\n",
       "    </tr>\n",
       "  </tbody>\n",
       "</table>\n",
       "</div>"
      ],
      "text/plain": [
       "  Case Number         Date    Year        Type    Country             Area  \\\n",
       "0  2018.06.25  25-Jun-2018  2018.0     Boating        USA       California   \n",
       "1  2018.06.18  18-Jun-2018  2018.0  Unprovoked        USA          Georgia   \n",
       "2  2018.06.09  09-Jun-2018  2018.0     Invalid        USA           Hawaii   \n",
       "3  2018.06.08  08-Jun-2018  2018.0  Unprovoked  AUSTRALIA  New South Wales   \n",
       "4  2018.06.04  04-Jun-2018  2018.0    Provoked     MEXICO           Colima   \n",
       "\n",
       "                         Location     Activity             Name Sex   Age  \\\n",
       "0     Oceanside, San Diego County     Paddling      Julie Wolfe    F   57   \n",
       "1  St. Simon Island, Glynn County     Standing  Adyson McNeely     F   11   \n",
       "2                    Habush, Oahu      Surfing      John Denges    M   48   \n",
       "3              Arrawarra Headland      Surfing             male    M  NaN   \n",
       "4                        La Ticla  Free diving   Gustavo Ramos     M  NaN   \n",
       "\n",
       "                                              Injury Fatal (Y/N)  \\\n",
       "0  No injury to occupant, outrigger canoe and pad...           N   \n",
       "1                         Minor injury to left thigh           N   \n",
       "2       Injury to left lower leg from surfboard skeg           N   \n",
       "3                          Minor injury to lower leg           N   \n",
       "4  Lacerations to leg & hand shark PROVOKED INCIDENT           N   \n",
       "\n",
       "            Time         Species           Investigator or Source  \n",
       "0          18h00      White shark                R. Collier, GSAF  \n",
       "1  14h00  -15h00              NaN  K.McMurray, TrackingSharks.com  \n",
       "2          07h45              NaN  K.McMurray, TrackingSharks.com  \n",
       "3            NaN        2 m shark                  B. Myatt, GSAF  \n",
       "4            NaN  Tiger shark, 3m                       A .Kipper  "
      ]
     },
     "execution_count": 193,
     "metadata": {},
     "output_type": "execute_result"
    }
   ],
   "source": [
    "\n",
    "df_sharks.head()"
   ]
  },
  {
   "cell_type": "code",
   "execution_count": 194,
   "id": "9205a3c1",
   "metadata": {},
   "outputs": [
    {
     "name": "stdout",
     "output_type": "stream",
     "text": [
      "Index(['Case Number', 'Date', 'Year', 'Type', 'Country', 'Area', 'Location',\n",
      "       'Activity', 'Name', 'Sex ', 'Age', 'Injury', 'Fatal (Y/N)', 'Time',\n",
      "       'Species ', 'Investigator or Source'],\n",
      "      dtype='object')\n"
     ]
    }
   ],
   "source": [
    "#after deleting the the columns that are not relevant at this point, let's check the columns names again and clean them\n",
    "print(df_sharks.columns)"
   ]
  },
  {
   "cell_type": "code",
   "execution_count": 195,
   "id": "a70e8ca0",
   "metadata": {},
   "outputs": [],
   "source": [
    "#printing the columns' names helps detect the hidden caracters that can't be detected from looking directly at the table.\n",
    "#It seems that the colums \"Sex\" and \"Species\" have spaces at the end. lest's clean them"
   ]
  },
  {
   "cell_type": "code",
   "execution_count": 196,
   "id": "bb87da8f",
   "metadata": {},
   "outputs": [],
   "source": [
    "df_sharks.rename(columns={\"Sex \":\"Sex\"}, inplace=True)\n",
    "df_sharks.rename(columns={\"Species \":\"Species\"}, inplace=True)"
   ]
  },
  {
   "cell_type": "code",
   "execution_count": 197,
   "id": "58de8261",
   "metadata": {},
   "outputs": [
    {
     "name": "stdout",
     "output_type": "stream",
     "text": [
      "Index(['Case Number', 'Date', 'Year', 'Type', 'Country', 'Area', 'Location',\n",
      "       'Activity', 'Name', 'Sex', 'Age', 'Injury', 'Fatal (Y/N)', 'Time',\n",
      "       'Species', 'Investigator or Source'],\n",
      "      dtype='object')\n"
     ]
    }
   ],
   "source": [
    "\n",
    "print(df_sharks.columns)"
   ]
  },
  {
   "cell_type": "code",
   "execution_count": 198,
   "id": "262e713c",
   "metadata": {},
   "outputs": [
    {
     "data": {
      "text/plain": [
       "(6304, 16)"
      ]
     },
     "execution_count": 198,
     "metadata": {},
     "output_type": "execute_result"
    }
   ],
   "source": [
    "\n",
    "df_sharks.shape"
   ]
  },
  {
   "cell_type": "code",
   "execution_count": 199,
   "id": "e7170bdb",
   "metadata": {},
   "outputs": [],
   "source": [
    "#making sure that all rows missing the columns in the code are dropped\n",
    "df_sharks.dropna(axis=0, inplace=True, how=\"all\", subset=[\"Age\", \"Type\",\"Activity\",\"Country\",\"Fatal (Y/N)\",\"Species\"])"
   ]
  },
  {
   "cell_type": "code",
   "execution_count": 200,
   "id": "3cb49d96",
   "metadata": {},
   "outputs": [],
   "source": [
    "#now let's look at the content of each column and see if there are missing or mismatching info\n",
    "#the 3 columns \"Case Number,Date and Year\" seem a little bit similar, so to make it more efficient and less redundant, \n",
    "#we'll split the Date column into 2 (month,year)\n",
    "#and then drop the column Case Number, the Year column will be automatically replaced\n"
   ]
  },
  {
   "cell_type": "code",
   "execution_count": 201,
   "id": "7a975fa2",
   "metadata": {},
   "outputs": [],
   "source": [
    "df_sharks[[\"Month\"]] = df_sharks[\"Date\"].str.lower().str.extract(r'-(\\w{3})-')\n",
    "df_sharks[[\"Year\"]] = df_sharks[\"Date\"].str.extract(r'(\\d{4})')\n",
    "\n"
   ]
  },
  {
   "cell_type": "code",
   "execution_count": 202,
   "id": "5f55e213",
   "metadata": {},
   "outputs": [],
   "source": [
    "#now i'll drop the \"Case Number\" column, since i have a year and a month columns already\n",
    "df_sharks = df_sharks.drop(columns=[\"Case Number\"])\n",
    "\n"
   ]
  },
  {
   "cell_type": "code",
   "execution_count": 176,
   "id": "b2570e19",
   "metadata": {},
   "outputs": [
    {
     "data": {
      "text/html": [
       "<div>\n",
       "<style scoped>\n",
       "    .dataframe tbody tr th:only-of-type {\n",
       "        vertical-align: middle;\n",
       "    }\n",
       "\n",
       "    .dataframe tbody tr th {\n",
       "        vertical-align: top;\n",
       "    }\n",
       "\n",
       "    .dataframe thead th {\n",
       "        text-align: right;\n",
       "    }\n",
       "</style>\n",
       "<table border=\"1\" class=\"dataframe\">\n",
       "  <thead>\n",
       "    <tr style=\"text-align: right;\">\n",
       "      <th></th>\n",
       "      <th>Date</th>\n",
       "      <th>Year</th>\n",
       "      <th>Type</th>\n",
       "      <th>Country</th>\n",
       "      <th>Area</th>\n",
       "      <th>Location</th>\n",
       "      <th>Activity</th>\n",
       "      <th>Name</th>\n",
       "      <th>Sex</th>\n",
       "      <th>Age</th>\n",
       "      <th>Injury</th>\n",
       "      <th>Fatal (Y/N)</th>\n",
       "      <th>Time</th>\n",
       "      <th>Species</th>\n",
       "      <th>Investigator or Source</th>\n",
       "      <th>Month</th>\n",
       "    </tr>\n",
       "  </thead>\n",
       "  <tbody>\n",
       "    <tr>\n",
       "      <th>0</th>\n",
       "      <td>25-Jun-2018</td>\n",
       "      <td>2018</td>\n",
       "      <td>Boating</td>\n",
       "      <td>USA</td>\n",
       "      <td>California</td>\n",
       "      <td>Oceanside, San Diego County</td>\n",
       "      <td>Paddling</td>\n",
       "      <td>Julie Wolfe</td>\n",
       "      <td>F</td>\n",
       "      <td>57</td>\n",
       "      <td>No injury to occupant, outrigger canoe and pad...</td>\n",
       "      <td>N</td>\n",
       "      <td>18h00</td>\n",
       "      <td>White shark</td>\n",
       "      <td>R. Collier, GSAF</td>\n",
       "      <td>jun</td>\n",
       "    </tr>\n",
       "    <tr>\n",
       "      <th>1</th>\n",
       "      <td>18-Jun-2018</td>\n",
       "      <td>2018</td>\n",
       "      <td>Unprovoked</td>\n",
       "      <td>USA</td>\n",
       "      <td>Georgia</td>\n",
       "      <td>St. Simon Island, Glynn County</td>\n",
       "      <td>Standing</td>\n",
       "      <td>Adyson McNeely</td>\n",
       "      <td>F</td>\n",
       "      <td>11</td>\n",
       "      <td>Minor injury to left thigh</td>\n",
       "      <td>N</td>\n",
       "      <td>14h00  -15h00</td>\n",
       "      <td>NaN</td>\n",
       "      <td>K.McMurray, TrackingSharks.com</td>\n",
       "      <td>jun</td>\n",
       "    </tr>\n",
       "    <tr>\n",
       "      <th>2</th>\n",
       "      <td>09-Jun-2018</td>\n",
       "      <td>2018</td>\n",
       "      <td>Invalid</td>\n",
       "      <td>USA</td>\n",
       "      <td>Hawaii</td>\n",
       "      <td>Habush, Oahu</td>\n",
       "      <td>Surfing</td>\n",
       "      <td>John Denges</td>\n",
       "      <td>M</td>\n",
       "      <td>48</td>\n",
       "      <td>Injury to left lower leg from surfboard skeg</td>\n",
       "      <td>N</td>\n",
       "      <td>07h45</td>\n",
       "      <td>NaN</td>\n",
       "      <td>K.McMurray, TrackingSharks.com</td>\n",
       "      <td>jun</td>\n",
       "    </tr>\n",
       "    <tr>\n",
       "      <th>3</th>\n",
       "      <td>08-Jun-2018</td>\n",
       "      <td>2018</td>\n",
       "      <td>Unprovoked</td>\n",
       "      <td>AUSTRALIA</td>\n",
       "      <td>New South Wales</td>\n",
       "      <td>Arrawarra Headland</td>\n",
       "      <td>Surfing</td>\n",
       "      <td>male</td>\n",
       "      <td>M</td>\n",
       "      <td>NaN</td>\n",
       "      <td>Minor injury to lower leg</td>\n",
       "      <td>N</td>\n",
       "      <td>NaN</td>\n",
       "      <td>2 m shark</td>\n",
       "      <td>B. Myatt, GSAF</td>\n",
       "      <td>jun</td>\n",
       "    </tr>\n",
       "    <tr>\n",
       "      <th>4</th>\n",
       "      <td>04-Jun-2018</td>\n",
       "      <td>2018</td>\n",
       "      <td>Provoked</td>\n",
       "      <td>MEXICO</td>\n",
       "      <td>Colima</td>\n",
       "      <td>La Ticla</td>\n",
       "      <td>Free diving</td>\n",
       "      <td>Gustavo Ramos</td>\n",
       "      <td>M</td>\n",
       "      <td>NaN</td>\n",
       "      <td>Lacerations to leg &amp; hand shark PROVOKED INCIDENT</td>\n",
       "      <td>N</td>\n",
       "      <td>NaN</td>\n",
       "      <td>Tiger shark, 3m</td>\n",
       "      <td>A .Kipper</td>\n",
       "      <td>jun</td>\n",
       "    </tr>\n",
       "  </tbody>\n",
       "</table>\n",
       "</div>"
      ],
      "text/plain": [
       "          Date  Year        Type    Country             Area  \\\n",
       "0  25-Jun-2018  2018     Boating        USA       California   \n",
       "1  18-Jun-2018  2018  Unprovoked        USA          Georgia   \n",
       "2  09-Jun-2018  2018     Invalid        USA           Hawaii   \n",
       "3  08-Jun-2018  2018  Unprovoked  AUSTRALIA  New South Wales   \n",
       "4  04-Jun-2018  2018    Provoked     MEXICO           Colima   \n",
       "\n",
       "                         Location     Activity             Name Sex  Age  \\\n",
       "0     Oceanside, San Diego County     Paddling      Julie Wolfe   F   57   \n",
       "1  St. Simon Island, Glynn County     Standing  Adyson McNeely    F   11   \n",
       "2                    Habush, Oahu      Surfing      John Denges   M   48   \n",
       "3              Arrawarra Headland      Surfing             male   M  NaN   \n",
       "4                        La Ticla  Free diving   Gustavo Ramos    M  NaN   \n",
       "\n",
       "                                              Injury Fatal (Y/N)  \\\n",
       "0  No injury to occupant, outrigger canoe and pad...           N   \n",
       "1                         Minor injury to left thigh           N   \n",
       "2       Injury to left lower leg from surfboard skeg           N   \n",
       "3                          Minor injury to lower leg           N   \n",
       "4  Lacerations to leg & hand shark PROVOKED INCIDENT           N   \n",
       "\n",
       "            Time          Species          Investigator or Source Month  \n",
       "0          18h00      White shark                R. Collier, GSAF   jun  \n",
       "1  14h00  -15h00              NaN  K.McMurray, TrackingSharks.com   jun  \n",
       "2          07h45              NaN  K.McMurray, TrackingSharks.com   jun  \n",
       "3            NaN        2 m shark                  B. Myatt, GSAF   jun  \n",
       "4            NaN  Tiger shark, 3m                       A .Kipper   jun  "
      ]
     },
     "execution_count": 176,
     "metadata": {},
     "output_type": "execute_result"
    }
   ],
   "source": [
    "df_sharks.shape\n",
    "df_sharks.head()\n",
    "# now the dataset went from 8703 row and 24 columns to  (6304, 16) after deleting the empty ones"
   ]
  },
  {
   "cell_type": "code",
   "execution_count": 178,
   "id": "b465b6df",
   "metadata": {},
   "outputs": [
    {
     "data": {
      "text/plain": [
       "Date                         0\n",
       "Year                        19\n",
       "Type                         4\n",
       "Country                     50\n",
       "Area                       455\n",
       "Location                   540\n",
       "Activity                   544\n",
       "Name                       210\n",
       "Sex                        565\n",
       "Age                       2831\n",
       "Injury                      28\n",
       "Fatal (Y/N)                539\n",
       "Time                      3354\n",
       "Species                   2838\n",
       "Investigator or Source      17\n",
       "Month                      910\n",
       "dtype: int64"
      ]
     },
     "execution_count": 178,
     "metadata": {},
     "output_type": "execute_result"
    }
   ],
   "source": [
    "#now we start cleaning the content, and check for empty fields\n",
    "pd.isna(df_sharks).sum()"
   ]
  },
  {
   "cell_type": "code",
   "execution_count": 214,
   "id": "ddc541c8",
   "metadata": {},
   "outputs": [
    {
     "data": {
      "text/plain": [
       "False    6298\n",
       "True        4\n",
       "Name: Type, dtype: int64"
      ]
     },
     "execution_count": 214,
     "metadata": {},
     "output_type": "execute_result"
    }
   ],
   "source": [
    "df_sharks['Type'].isna().value_counts()\n",
    "#the \"Type\" column doesnt need much cleaning"
   ]
  },
  {
   "cell_type": "code",
   "execution_count": 215,
   "id": "cbe5e6dd",
   "metadata": {},
   "outputs": [
    {
     "data": {
      "text/plain": [
       "array(['Boating', 'Unprovoked', 'Invalid', 'Provoked', 'Questionable',\n",
       "       'Sea Disaster', nan, 'Boat', 'Boatomg'], dtype=object)"
      ]
     },
     "execution_count": 215,
     "metadata": {},
     "output_type": "execute_result"
    }
   ],
   "source": [
    "df_sharks[\"Type\"].unique()\n",
    "#unify the data"
   ]
  },
  {
   "cell_type": "code",
   "execution_count": 216,
   "id": "ea50058f",
   "metadata": {},
   "outputs": [
    {
     "data": {
      "text/plain": [
       "array(['Boat', 'Unprovoked', 'Unknown', 'Provoked', 'Questionable',\n",
       "       'Sea Disaster', nan], dtype=object)"
      ]
     },
     "execution_count": 216,
     "metadata": {},
     "output_type": "execute_result"
    }
   ],
   "source": [
    "df_sharks[\"Type\"] = df_sharks[\"Type\"].str.replace(\"Boating\",\"Boat\")\n",
    "df_sharks[\"Type\"] = df_sharks[\"Type\"].str.replace(\"Boatomg\",\"Boat\")\n",
    "df_sharks[\"Type\"] = df_sharks[\"Type\"].str.replace(\"Invalid\",\"Unknown\")\n",
    "\n",
    "df_sharks[\"Type\"].unique()\n"
   ]
  },
  {
   "cell_type": "code",
   "execution_count": 219,
   "id": "613482bb",
   "metadata": {},
   "outputs": [
    {
     "data": {
      "text/plain": [
       "50"
      ]
     },
     "execution_count": 219,
     "metadata": {},
     "output_type": "execute_result"
    }
   ],
   "source": [
    "df_sharks[\"Country\"].isna().sum()\n",
    "#Replacing the empty fields in the Country column with \"Unknown\"\n"
   ]
  },
  {
   "cell_type": "code",
   "execution_count": 220,
   "id": "21b9cc5a",
   "metadata": {},
   "outputs": [],
   "source": [
    "df_sharks[\"Country\"].fillna(\"Unknown\", inplace=True)\n",
    "df_sharks[\"Country\"].isna().sum()\n"
   ]
  },
  {
   "cell_type": "code",
   "execution_count": null,
   "id": "d4a12a7d",
   "metadata": {},
   "outputs": [],
   "source": [
    "df_sharks[\"Area\"].isna().sum()\n"
   ]
  },
  {
   "cell_type": "code",
   "execution_count": 222,
   "id": "2a4ae38d",
   "metadata": {},
   "outputs": [
    {
     "data": {
      "text/plain": [
       "0"
      ]
     },
     "execution_count": 222,
     "metadata": {},
     "output_type": "execute_result"
    }
   ],
   "source": [
    "df_sharks[\"Area\"].fillna(\"Unknown\", inplace=True)\n",
    "df_sharks[\"Area\"].isna().sum()"
   ]
  },
  {
   "cell_type": "code",
   "execution_count": 225,
   "id": "492a66a3",
   "metadata": {},
   "outputs": [],
   "source": [
    "df_sharks[\"Location\"].isna().sum()\n",
    "df_sharks[\"Location\"].fillna(\"Unknown\", inplace=True)"
   ]
  },
  {
   "cell_type": "code",
   "execution_count": 224,
   "id": "f4cd36b8",
   "metadata": {},
   "outputs": [],
   "source": [
    "#not much change in the columns \"Area,Location,Country\", except from filling all the blanks with \"unknown\""
   ]
  },
  {
   "cell_type": "code",
   "execution_count": 228,
   "id": "1a739e68",
   "metadata": {},
   "outputs": [
    {
     "data": {
      "text/plain": [
       "544"
      ]
     },
     "execution_count": 228,
     "metadata": {},
     "output_type": "execute_result"
    }
   ],
   "source": [
    "\n",
    "df_sharks[\"Activity\"].value_counts()\n",
    "\n",
    "df_sharks[\"Activity\"].isna().sum()\n"
   ]
  },
  {
   "cell_type": "code",
   "execution_count": 229,
   "id": "da7f8324",
   "metadata": {},
   "outputs": [],
   "source": [
    "df_sharks[\"Name\"].isna().sum()\n",
    "df_sharks[\"Name\"].fillna(\"Unknown\", inplace=True)"
   ]
  },
  {
   "cell_type": "code",
   "execution_count": 230,
   "id": "a9a815f0",
   "metadata": {},
   "outputs": [
    {
     "data": {
      "text/plain": [
       "array(['F', 'M', nan, 'M ', 'lli', 'N', '.'], dtype=object)"
      ]
     },
     "execution_count": 230,
     "metadata": {},
     "output_type": "execute_result"
    }
   ],
   "source": [
    "#unify the column \"Sex\"\n",
    "df_sharks[\"Sex\"].unique()"
   ]
  },
  {
   "cell_type": "code",
   "execution_count": 232,
   "id": "32a6fe9b",
   "metadata": {},
   "outputs": [
    {
     "name": "stderr",
     "output_type": "stream",
     "text": [
      "C:\\Users\\34603\\AppData\\Local\\Temp\\ipykernel_15524\\3394812697.py:4: FutureWarning: The default value of regex will change from True to False in a future version. In addition, single character regular expressions will *not* be treated as literal strings when regex=True.\n",
      "  df_sharks[\"Sex\"] = df_sharks[\"Sex\"].str.replace(\".\", \"Unknown\")\n"
     ]
    },
    {
     "data": {
      "text/plain": [
       "array(['F', 'M', 'Unknown'], dtype=object)"
      ]
     },
     "execution_count": 232,
     "metadata": {},
     "output_type": "execute_result"
    }
   ],
   "source": [
    "df_sharks[\"Sex\"] = df_sharks[\"Sex\"].str.replace(\"N\", \"M\")\n",
    "df_sharks[\"Sex\"] = df_sharks[\"Sex\"].str.replace(\"M \", \"M\")\n",
    "df_sharks[\"Sex\"] = df_sharks[\"Sex\"].str.replace(\"lli\", \"Unknown\")\n",
    "df_sharks[\"Sex\"] = df_sharks[\"Sex\"].str.replace(\".\", \"Unknown\")\n",
    "df_sharks[\"Sex\"] = df_sharks[\"Sex\"].str.replace(\"nan\", \"Unknown\")\n",
    "df_sharks['Sex'] = df_sharks['Sex'].fillna('Unknown')\n",
    "df_sharks[\"Sex\"].unique()"
   ]
  },
  {
   "cell_type": "code",
   "execution_count": 234,
   "id": "2a311398",
   "metadata": {},
   "outputs": [
    {
     "data": {
      "text/html": [
       "<div>\n",
       "<style scoped>\n",
       "    .dataframe tbody tr th:only-of-type {\n",
       "        vertical-align: middle;\n",
       "    }\n",
       "\n",
       "    .dataframe tbody tr th {\n",
       "        vertical-align: top;\n",
       "    }\n",
       "\n",
       "    .dataframe thead th {\n",
       "        text-align: right;\n",
       "    }\n",
       "</style>\n",
       "<table border=\"1\" class=\"dataframe\">\n",
       "  <thead>\n",
       "    <tr style=\"text-align: right;\">\n",
       "      <th></th>\n",
       "      <th>Date</th>\n",
       "      <th>Year</th>\n",
       "      <th>Type</th>\n",
       "      <th>Country</th>\n",
       "      <th>Area</th>\n",
       "      <th>Location</th>\n",
       "      <th>Activity</th>\n",
       "      <th>Name</th>\n",
       "      <th>Sex</th>\n",
       "      <th>Age</th>\n",
       "      <th>Injury</th>\n",
       "      <th>Fatal (Y/N)</th>\n",
       "      <th>Time</th>\n",
       "      <th>Species</th>\n",
       "      <th>Investigator or Source</th>\n",
       "      <th>Month</th>\n",
       "    </tr>\n",
       "  </thead>\n",
       "  <tbody>\n",
       "    <tr>\n",
       "      <th>358</th>\n",
       "      <td>20-Sep-2015</td>\n",
       "      <td>2015</td>\n",
       "      <td>Unprovoked</td>\n",
       "      <td>USA</td>\n",
       "      <td>Hawaii</td>\n",
       "      <td>Upolu Point, North Kohala, Big Island</td>\n",
       "      <td>Spearfishing</td>\n",
       "      <td>Braxton Rocha</td>\n",
       "      <td>M</td>\n",
       "      <td>27</td>\n",
       "      <td>Severe laceration to left leg</td>\n",
       "      <td>N</td>\n",
       "      <td>15h52</td>\n",
       "      <td>Tiger shark, 13'</td>\n",
       "      <td>Big Island Video, 9/20/2015</td>\n",
       "      <td>sep</td>\n",
       "    </tr>\n",
       "    <tr>\n",
       "      <th>350</th>\n",
       "      <td>07-Oct-2015</td>\n",
       "      <td>2015</td>\n",
       "      <td>Unprovoked</td>\n",
       "      <td>AUSTRALIA</td>\n",
       "      <td>Western Australia</td>\n",
       "      <td>Pyramids Beach</td>\n",
       "      <td>Surfing</td>\n",
       "      <td>Eli Zawadzki</td>\n",
       "      <td>M</td>\n",
       "      <td>18</td>\n",
       "      <td>Foot injured</td>\n",
       "      <td>N</td>\n",
       "      <td>16h50</td>\n",
       "      <td>NaN</td>\n",
       "      <td>Daily Mail, 10/7/2015</td>\n",
       "      <td>oct</td>\n",
       "    </tr>\n",
       "    <tr>\n",
       "      <th>4613</th>\n",
       "      <td>1946</td>\n",
       "      <td>1946</td>\n",
       "      <td>Boat</td>\n",
       "      <td>SOUTH AFRICA</td>\n",
       "      <td>Western Cape Province</td>\n",
       "      <td>Table Bay</td>\n",
       "      <td>NaN</td>\n",
       "      <td>boat</td>\n",
       "      <td>Unknown</td>\n",
       "      <td>NaN</td>\n",
       "      <td>Shark holed and sank boat, occupants rescued</td>\n",
       "      <td>N</td>\n",
       "      <td>NaN</td>\n",
       "      <td>NaN</td>\n",
       "      <td>T. Wallett, p.27</td>\n",
       "      <td>NaN</td>\n",
       "    </tr>\n",
       "    <tr>\n",
       "      <th>5673</th>\n",
       "      <td>Reported 18-Jan-1893</td>\n",
       "      <td>1893</td>\n",
       "      <td>Unprovoked</td>\n",
       "      <td>FRENCH POLYNESIA</td>\n",
       "      <td>NaN</td>\n",
       "      <td>One week out of Pápete</td>\n",
       "      <td>Murdered</td>\n",
       "      <td>sailor</td>\n",
       "      <td>M</td>\n",
       "      <td>NaN</td>\n",
       "      <td>FATAL.Tossed overboard to sharks by Rodrigue b...</td>\n",
       "      <td>Y</td>\n",
       "      <td>NaN</td>\n",
       "      <td>NaN</td>\n",
       "      <td>West Australian, 1/18/1893</td>\n",
       "      <td>jan</td>\n",
       "    </tr>\n",
       "    <tr>\n",
       "      <th>1732</th>\n",
       "      <td>05-Oct-2003</td>\n",
       "      <td>2003</td>\n",
       "      <td>Unprovoked</td>\n",
       "      <td>USA</td>\n",
       "      <td>Florida</td>\n",
       "      <td>Ocean Reef Park, Singer Island, Palm Beach County</td>\n",
       "      <td>Surfing</td>\n",
       "      <td>female</td>\n",
       "      <td>F</td>\n",
       "      <td>NaN</td>\n",
       "      <td>Minor puncture wounds in hand</td>\n",
       "      <td>N</td>\n",
       "      <td>15h00</td>\n",
       "      <td>NaN</td>\n",
       "      <td>J. Eager, scubaradio.com</td>\n",
       "      <td>oct</td>\n",
       "    </tr>\n",
       "    <tr>\n",
       "      <th>...</th>\n",
       "      <td>...</td>\n",
       "      <td>...</td>\n",
       "      <td>...</td>\n",
       "      <td>...</td>\n",
       "      <td>...</td>\n",
       "      <td>...</td>\n",
       "      <td>...</td>\n",
       "      <td>...</td>\n",
       "      <td>...</td>\n",
       "      <td>...</td>\n",
       "      <td>...</td>\n",
       "      <td>...</td>\n",
       "      <td>...</td>\n",
       "      <td>...</td>\n",
       "      <td>...</td>\n",
       "      <td>...</td>\n",
       "    </tr>\n",
       "    <tr>\n",
       "      <th>2701</th>\n",
       "      <td>1989</td>\n",
       "      <td>1989</td>\n",
       "      <td>Unprovoked</td>\n",
       "      <td>PAPUA NEW GUINEA</td>\n",
       "      <td>New Ireland</td>\n",
       "      <td>Kavieng</td>\n",
       "      <td>Scuba diving, hand feeding sharks</td>\n",
       "      <td>Dinah Halstead</td>\n",
       "      <td>F</td>\n",
       "      <td>NaN</td>\n",
       "      <td>Thigh &amp; calf bitten</td>\n",
       "      <td>N</td>\n",
       "      <td>NaN</td>\n",
       "      <td>7' silvertip shark</td>\n",
       "      <td>S. Waterman, GSAF</td>\n",
       "      <td>NaN</td>\n",
       "    </tr>\n",
       "    <tr>\n",
       "      <th>1032</th>\n",
       "      <td>19-Apr-2010</td>\n",
       "      <td>2010</td>\n",
       "      <td>Unprovoked</td>\n",
       "      <td>USA</td>\n",
       "      <td>Hawaii</td>\n",
       "      <td>Hanalei Bay, Kauai</td>\n",
       "      <td>Surfing</td>\n",
       "      <td>Jim Rawlinson</td>\n",
       "      <td>M</td>\n",
       "      <td>68</td>\n",
       "      <td>No injury, surfboard bitten</td>\n",
       "      <td>N</td>\n",
       "      <td>16h00</td>\n",
       "      <td>14' shark</td>\n",
       "      <td>R. Collier, Honolulu Advertiser, 4/23/2010</td>\n",
       "      <td>apr</td>\n",
       "    </tr>\n",
       "    <tr>\n",
       "      <th>5357</th>\n",
       "      <td>12-July-1913</td>\n",
       "      <td>1913</td>\n",
       "      <td>Unprovoked</td>\n",
       "      <td>USA</td>\n",
       "      <td>South Carolina</td>\n",
       "      <td>Charleston</td>\n",
       "      <td>NaN</td>\n",
       "      <td>soldier</td>\n",
       "      <td>M</td>\n",
       "      <td>NaN</td>\n",
       "      <td>FATAL</td>\n",
       "      <td>Y</td>\n",
       "      <td>NaN</td>\n",
       "      <td>NaN</td>\n",
       "      <td>C. Creswell, GSAF</td>\n",
       "      <td>NaN</td>\n",
       "    </tr>\n",
       "    <tr>\n",
       "      <th>3038</th>\n",
       "      <td>Mar-1981</td>\n",
       "      <td>1981</td>\n",
       "      <td>Unprovoked</td>\n",
       "      <td>BRAZIL</td>\n",
       "      <td>Rio de Janeiro</td>\n",
       "      <td>Cabo Frio</td>\n",
       "      <td>Diving</td>\n",
       "      <td>NaN</td>\n",
       "      <td>Unknown</td>\n",
       "      <td>NaN</td>\n",
       "      <td>NaN</td>\n",
       "      <td>UNKNOWN</td>\n",
       "      <td>NaN</td>\n",
       "      <td>White shark</td>\n",
       "      <td>Globo,</td>\n",
       "      <td>NaN</td>\n",
       "    </tr>\n",
       "    <tr>\n",
       "      <th>401</th>\n",
       "      <td>27-Jun-2015</td>\n",
       "      <td>2015</td>\n",
       "      <td>Unprovoked</td>\n",
       "      <td>SOUTH AFRICA</td>\n",
       "      <td>Western Cape Province</td>\n",
       "      <td>Buffels Bay near Knysna</td>\n",
       "      <td>Body Boarding</td>\n",
       "      <td>Caleb Swanepoel</td>\n",
       "      <td>M</td>\n",
       "      <td>19</td>\n",
       "      <td>Right leg severed, multiple lacerations to lef...</td>\n",
       "      <td>N</td>\n",
       "      <td>14h40</td>\n",
       "      <td>White shark</td>\n",
       "      <td>NSRI, 6/27/205</td>\n",
       "      <td>jun</td>\n",
       "    </tr>\n",
       "  </tbody>\n",
       "</table>\n",
       "<p>3151 rows × 16 columns</p>\n",
       "</div>"
      ],
      "text/plain": [
       "                      Date  Year        Type           Country  \\\n",
       "358            20-Sep-2015  2015  Unprovoked               USA   \n",
       "350            07-Oct-2015  2015  Unprovoked         AUSTRALIA   \n",
       "4613                  1946  1946        Boat      SOUTH AFRICA   \n",
       "5673  Reported 18-Jan-1893  1893  Unprovoked  FRENCH POLYNESIA   \n",
       "1732           05-Oct-2003  2003  Unprovoked               USA   \n",
       "...                    ...   ...         ...               ...   \n",
       "2701                  1989  1989  Unprovoked  PAPUA NEW GUINEA   \n",
       "1032           19-Apr-2010  2010  Unprovoked               USA   \n",
       "5357          12-July-1913  1913  Unprovoked               USA   \n",
       "3038              Mar-1981  1981  Unprovoked            BRAZIL   \n",
       "401            27-Jun-2015  2015  Unprovoked      SOUTH AFRICA   \n",
       "\n",
       "                       Area  \\\n",
       "358                  Hawaii   \n",
       "350       Western Australia   \n",
       "4613  Western Cape Province   \n",
       "5673                    NaN   \n",
       "1732                Florida   \n",
       "...                     ...   \n",
       "2701            New Ireland   \n",
       "1032                 Hawaii   \n",
       "5357         South Carolina   \n",
       "3038         Rio de Janeiro   \n",
       "401   Western Cape Province   \n",
       "\n",
       "                                               Location  \\\n",
       "358               Upolu Point, North Kohala, Big Island   \n",
       "350                                      Pyramids Beach   \n",
       "4613                                          Table Bay   \n",
       "5673                             One week out of Pápete   \n",
       "1732  Ocean Reef Park, Singer Island, Palm Beach County   \n",
       "...                                                 ...   \n",
       "2701                                            Kavieng   \n",
       "1032                                 Hanalei Bay, Kauai   \n",
       "5357                                         Charleston   \n",
       "3038                                          Cabo Frio   \n",
       "401                             Buffels Bay near Knysna   \n",
       "\n",
       "                               Activity             Name      Sex  Age  \\\n",
       "358                        Spearfishing    Braxton Rocha        M   27   \n",
       "350                             Surfing     Eli Zawadzki        M   18   \n",
       "4613                                NaN             boat  Unknown  NaN   \n",
       "5673                           Murdered           sailor        M  NaN   \n",
       "1732                            Surfing           female        F  NaN   \n",
       "...                                 ...              ...      ...  ...   \n",
       "2701  Scuba diving, hand feeding sharks   Dinah Halstead        F  NaN   \n",
       "1032                            Surfing    Jim Rawlinson        M   68   \n",
       "5357                                NaN          soldier        M  NaN   \n",
       "3038                             Diving              NaN  Unknown  NaN   \n",
       "401                       Body Boarding  Caleb Swanepoel        M   19   \n",
       "\n",
       "                                                 Injury Fatal (Y/N)   Time  \\\n",
       "358                       Severe laceration to left leg           N  15h52   \n",
       "350                                        Foot injured           N  16h50   \n",
       "4613       Shark holed and sank boat, occupants rescued           N    NaN   \n",
       "5673  FATAL.Tossed overboard to sharks by Rodrigue b...           Y    NaN   \n",
       "1732                      Minor puncture wounds in hand           N  15h00   \n",
       "...                                                 ...         ...    ...   \n",
       "2701                                Thigh & calf bitten           N    NaN   \n",
       "1032                        No injury, surfboard bitten           N  16h00   \n",
       "5357                                              FATAL           Y    NaN   \n",
       "3038                                                NaN     UNKNOWN    NaN   \n",
       "401   Right leg severed, multiple lacerations to lef...           N  14h40   \n",
       "\n",
       "                 Species                      Investigator or Source Month  \n",
       "358     Tiger shark, 13'                 Big Island Video, 9/20/2015   sep  \n",
       "350                  NaN                       Daily Mail, 10/7/2015   oct  \n",
       "4613                 NaN                            T. Wallett, p.27   NaN  \n",
       "5673                 NaN                  West Australian, 1/18/1893   jan  \n",
       "1732                 NaN                    J. Eager, scubaradio.com   oct  \n",
       "...                  ...                                         ...   ...  \n",
       "2701  7' silvertip shark                           S. Waterman, GSAF   NaN  \n",
       "1032           14' shark  R. Collier, Honolulu Advertiser, 4/23/2010   apr  \n",
       "5357                 NaN                           C. Creswell, GSAF   NaN  \n",
       "3038         White shark                                     Globo,    NaN  \n",
       "401          White shark                              NSRI, 6/27/205   jun  \n",
       "\n",
       "[3151 rows x 16 columns]"
      ]
     },
     "execution_count": 234,
     "metadata": {},
     "output_type": "execute_result"
    }
   ],
   "source": [
    "\n",
    "df_sharks.sample(frac=0.5)\n",
    "\n"
   ]
  },
  {
   "cell_type": "code",
   "execution_count": 235,
   "id": "1ea60112",
   "metadata": {},
   "outputs": [
    {
     "data": {
      "text/plain": [
       "2831"
      ]
     },
     "execution_count": 235,
     "metadata": {},
     "output_type": "execute_result"
    }
   ],
   "source": [
    "df_sharks[\"Age\"].isna().sum()\n"
   ]
  },
  {
   "cell_type": "code",
   "execution_count": 237,
   "id": "9fc43f16",
   "metadata": {},
   "outputs": [
    {
     "name": "stdout",
     "output_type": "stream",
     "text": [
      "Date                      object\n",
      "Year                      object\n",
      "Type                      object\n",
      "Country                   object\n",
      "Area                      object\n",
      "Location                  object\n",
      "Activity                  object\n",
      "Name                      object\n",
      "Sex                       object\n",
      "Age                       object\n",
      "Injury                    object\n",
      "Fatal (Y/N)               object\n",
      "Time                      object\n",
      "Species                   object\n",
      "Investigator or Source    object\n",
      "Month                     object\n",
      "dtype: object\n"
     ]
    }
   ],
   "source": [
    "#df_sharks[\"Age\"] ==> is not integer\n",
    "print(df_sharks.dtypes)"
   ]
  },
  {
   "cell_type": "code",
   "execution_count": 241,
   "id": "70fd490a",
   "metadata": {},
   "outputs": [
    {
     "name": "stderr",
     "output_type": "stream",
     "text": [
      "C:\\Users\\34603\\AppData\\Local\\Temp\\ipykernel_15524\\2135340958.py:1: FutureWarning: The default value of regex will change from True to False in a future version.\n",
      "  df_sharks['Age'] = df_sharks['Age'].str.replace(r'[^\\d.]+', '')\n",
      "C:\\Users\\34603\\AppData\\Local\\Temp\\ipykernel_15524\\2135340958.py:2: FutureWarning: The default value of regex will change from True to False in a future version. In addition, single character regular expressions will *not* be treated as literal strings when regex=True.\n",
      "  df_sharks['Age'] = df_sharks['Age'].str.replace('.', '')\n"
     ]
    }
   ],
   "source": [
    "df_sharks['Age'] = df_sharks['Age'].str.replace(r'[^\\d.]+', '')\n",
    "df_sharks['Age'] = df_sharks['Age'].str.replace('.', '')\n",
    "df_sharks['Age'] = df_sharks['Age'].replace(np.nan, 0)\n",
    "df_sharks['Age'] = df_sharks['Age'].replace('', \"0\")\n"
   ]
  },
  {
   "cell_type": "code",
   "execution_count": 243,
   "id": "1ac233f9",
   "metadata": {},
   "outputs": [],
   "source": [
    "df_sharks['Age'] = df_sharks['Age'].astype('int64')"
   ]
  },
  {
   "cell_type": "code",
   "execution_count": 245,
   "id": "76256cbb",
   "metadata": {},
   "outputs": [],
   "source": [
    "df_sharks[\"Age\"] = df_sharks[\"Age\"].apply(lambda x: x if x < 99 else 0)"
   ]
  },
  {
   "cell_type": "code",
   "execution_count": 247,
   "id": "a3b756fe",
   "metadata": {},
   "outputs": [
    {
     "name": "stderr",
     "output_type": "stream",
     "text": [
      "C:\\Users\\34603\\AppData\\Local\\Temp\\ipykernel_15524\\1101999508.py:1: FutureWarning: Dropping of nuisance columns in DataFrame reductions (with 'numeric_only=None') is deprecated; in a future version this will raise TypeError.  Select only valid columns before calling the reduction.\n",
      "  meanAge = df_sharks[df_sharks['Age'] > 0].mean()\n"
     ]
    },
    {
     "data": {
      "text/plain": [
       "Age    27.40047\n",
       "dtype: float64"
      ]
     },
     "execution_count": 247,
     "metadata": {},
     "output_type": "execute_result"
    }
   ],
   "source": [
    "meanAge = df_sharks[df_sharks['Age'] > 0].mean()\n",
    "meanAge"
   ]
  },
  {
   "cell_type": "code",
   "execution_count": 248,
   "id": "d665da60",
   "metadata": {},
   "outputs": [],
   "source": [
    "\n",
    "df_sharks['Age'] = df_sharks['Age'].apply(lambda x: x if x > 0 else meanAge)\n"
   ]
  },
  {
   "cell_type": "code",
   "execution_count": 249,
   "id": "ecfb62ad",
   "metadata": {},
   "outputs": [
    {
     "data": {
      "text/plain": [
       "27.400469759247567"
      ]
     },
     "execution_count": 249,
     "metadata": {},
     "output_type": "execute_result"
    }
   ],
   "source": [
    "df_sharks[\"Age\"].mean()"
   ]
  },
  {
   "cell_type": "code",
   "execution_count": null,
   "id": "d5cae5ab",
   "metadata": {},
   "outputs": [],
   "source": []
  },
  {
   "cell_type": "code",
   "execution_count": 49,
   "id": "084fbc6a",
   "metadata": {},
   "outputs": [
    {
     "data": {
      "text/plain": [
       "array(['N', 'Y', nan, 'M', 'UNKNOWN', '2017', ' N', 'N ', 'y'],\n",
       "      dtype=object)"
      ]
     },
     "execution_count": 49,
     "metadata": {},
     "output_type": "execute_result"
    }
   ],
   "source": [
    "df_cleaning[\"Fatal (Y/N)\"].unique()"
   ]
  },
  {
   "cell_type": "code",
   "execution_count": 50,
   "id": "c61dcec4",
   "metadata": {},
   "outputs": [],
   "source": [
    "df_cleaning[\"Fatal (Y/N)\"] = df_cleaning[\"Fatal (Y/N)\"].str.replace(\" N\", \"N\")\n",
    "df_cleaning[\"Fatal (Y/N)\"] = df_cleaning[\"Fatal (Y/N)\"].str.replace(\"N \", \"N\")\n",
    "df_cleaning[\"Fatal (Y/N)\"] = df_cleaning[\"Fatal (Y/N)\"].str.replace(\"y\", \"Y\")\n",
    "df_cleaning[\"Fatal (Y/N)\"] = df_cleaning[\"Fatal (Y/N)\"].str.replace(\"2017\", \"UNKNOWN\")\n",
    "df_cleaning[\"Fatal (Y/N)\"] = df_cleaning[\"Fatal (Y/N)\"].str.replace(\"Unknown\", \"UNKNOWN\")\n",
    "df_cleaning[\"Fatal (Y/N)\"] = df_cleaning[\"Fatal (Y/N)\"].str.replace(\"M\", \"UNKNOWN\")\n",
    "\n",
    "df_cleaning[\"Fatal (Y/N)\"] = df_cleaning[\"Fatal (Y/N)\"].fillna(\"UNKNOWN\")\n",
    "\n",
    "\n",
    "\n"
   ]
  },
  {
   "cell_type": "code",
   "execution_count": 51,
   "id": "81d979b1",
   "metadata": {},
   "outputs": [
    {
     "data": {
      "text/plain": [
       "N          4301\n",
       "Y          1389\n",
       "UNKNOWN     614\n",
       "Name: Fatal (Y/N), dtype: int64"
      ]
     },
     "execution_count": 51,
     "metadata": {},
     "output_type": "execute_result"
    }
   ],
   "source": [
    "df_cleaning[\"Fatal (Y/N)\"].value_counts()\n"
   ]
  },
  {
   "cell_type": "code",
   "execution_count": 52,
   "id": "83054b87",
   "metadata": {},
   "outputs": [
    {
     "data": {
      "text/html": [
       "<div>\n",
       "<style scoped>\n",
       "    .dataframe tbody tr th:only-of-type {\n",
       "        vertical-align: middle;\n",
       "    }\n",
       "\n",
       "    .dataframe tbody tr th {\n",
       "        vertical-align: top;\n",
       "    }\n",
       "\n",
       "    .dataframe thead th {\n",
       "        text-align: right;\n",
       "    }\n",
       "</style>\n",
       "<table border=\"1\" class=\"dataframe\">\n",
       "  <thead>\n",
       "    <tr style=\"text-align: right;\">\n",
       "      <th></th>\n",
       "      <th>Date</th>\n",
       "      <th>Year</th>\n",
       "      <th>Type</th>\n",
       "      <th>Country</th>\n",
       "      <th>Area</th>\n",
       "      <th>Location</th>\n",
       "      <th>Activity</th>\n",
       "      <th>Name</th>\n",
       "      <th>Sex</th>\n",
       "      <th>Age</th>\n",
       "      <th>Injury</th>\n",
       "      <th>Fatal (Y/N)</th>\n",
       "      <th>Time</th>\n",
       "      <th>Species</th>\n",
       "      <th>Investigator or Source</th>\n",
       "      <th>Month</th>\n",
       "    </tr>\n",
       "  </thead>\n",
       "  <tbody>\n",
       "    <tr>\n",
       "      <th>2718</th>\n",
       "      <td>22-Aug-1988</td>\n",
       "      <td>1988</td>\n",
       "      <td>Unprovoked</td>\n",
       "      <td>ITALY</td>\n",
       "      <td>Manfredonia</td>\n",
       "      <td>Ippocampo</td>\n",
       "      <td>NaN</td>\n",
       "      <td>male</td>\n",
       "      <td>M</td>\n",
       "      <td>16</td>\n",
       "      <td>Survived</td>\n",
       "      <td>N</td>\n",
       "      <td>NaN</td>\n",
       "      <td>NaN</td>\n",
       "      <td>C. Moore, GSAF</td>\n",
       "      <td>aug</td>\n",
       "    </tr>\n",
       "  </tbody>\n",
       "</table>\n",
       "</div>"
      ],
      "text/plain": [
       "             Date  Year        Type Country          Area   Location Activity  \\\n",
       "2718  22-Aug-1988  1988  Unprovoked   ITALY  Manfredonia   Ippocampo      NaN   \n",
       "\n",
       "      Name Sex Age    Injury Fatal (Y/N) Time Species Investigator or Source  \\\n",
       "2718  male   M  16  Survived           N  NaN     NaN         C. Moore, GSAF   \n",
       "\n",
       "     Month  \n",
       "2718   aug  "
      ]
     },
     "execution_count": 52,
     "metadata": {},
     "output_type": "execute_result"
    }
   ],
   "source": [
    "df_cleaning.sample()"
   ]
  },
  {
   "cell_type": "code",
   "execution_count": 53,
   "id": "4c23ad4f",
   "metadata": {},
   "outputs": [
    {
     "name": "stdout",
     "output_type": "stream",
     "text": [
      "Index(['Date', 'Year', 'Type', 'Country', 'Area', 'Location', 'Activity',\n",
      "       'Name', 'Sex', 'Age', 'Injury', 'Fatal (Y/N)', 'Time', 'Species',\n",
      "       'Investigator or Source', 'Month'],\n",
      "      dtype='object')\n"
     ]
    }
   ],
   "source": [
    "print(df_cleaning.columns)"
   ]
  },
  {
   "cell_type": "code",
   "execution_count": 54,
   "id": "9a29fa5c",
   "metadata": {},
   "outputs": [
    {
     "data": {
      "text/plain": [
       "FATAL                                                                                     802\n",
       "Survived                                                                                   97\n",
       "Foot bitten                                                                                87\n",
       "No injury                                                                                  82\n",
       "Leg bitten                                                                                 72\n",
       "                                                                                         ... \n",
       "Cut foot, but injury caused by fishing line, not the shark                                  1\n",
       "Left foot bitten after he accidentally stepped on the shark         PROVOKED INCIDENT       1\n",
       "2 puncture wounds in left leg                                                               1\n",
       "PROVOKED INCIDENT    Knee bitten by shark trapped in net                                    1\n",
       "FATAL. \"Shark bit him in half, carrying away the lower extremities\"                         1\n",
       "Name: Injury, Length: 3737, dtype: int64"
      ]
     },
     "execution_count": 54,
     "metadata": {},
     "output_type": "execute_result"
    }
   ],
   "source": [
    "df_cleaning[\"Injury\"].value_counts()\n"
   ]
  },
  {
   "cell_type": "code",
   "execution_count": null,
   "id": "58427143",
   "metadata": {},
   "outputs": [],
   "source": []
  },
  {
   "cell_type": "code",
   "execution_count": 189,
   "id": "379e0d37",
   "metadata": {},
   "outputs": [],
   "source": [
    "#sns.boxplot(x=df_cleaning[\"Country\"], hue=df_cleaning[\"Fatal (Y/N)\"], palette=\"magma\")"
   ]
  },
  {
   "cell_type": "code",
   "execution_count": 1,
   "id": "042f26d8",
   "metadata": {},
   "outputs": [],
   "source": [
    "#df_cleaning[\"Country\"].value_counts().plot(kind=\"bar\", color=\"salmon\", title=\"Number of penguins by species\")\n",
    "#plt.xticks(rotation=0)\n"
   ]
  },
  {
   "cell_type": "code",
   "execution_count": null,
   "id": "b4e4708b",
   "metadata": {},
   "outputs": [],
   "source": [
    "for i in "
   ]
  },
  {
   "cell_type": "code",
   "execution_count": null,
   "id": "f470f8ed",
   "metadata": {},
   "outputs": [],
   "source": [
    "#age/fatality\n",
    "#sex/fatality\n",
    "#activity/fatality"
   ]
  }
 ],
 "metadata": {
  "kernelspec": {
   "display_name": "Python 3 (ipykernel)",
   "language": "python",
   "name": "python3"
  },
  "language_info": {
   "codemirror_mode": {
    "name": "ipython",
    "version": 3
   },
   "file_extension": ".py",
   "mimetype": "text/x-python",
   "name": "python",
   "nbconvert_exporter": "python",
   "pygments_lexer": "ipython3",
   "version": "3.9.12"
  }
 },
 "nbformat": 4,
 "nbformat_minor": 5
}
